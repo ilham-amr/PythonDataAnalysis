{
 "cells": [
  {
   "cell_type": "markdown",
   "metadata": {},
   "source": [
    "# Mean-Variance-StandarDeviation Calculator"
   ]
  },
  {
   "cell_type": "code",
   "execution_count": 1,
   "metadata": {},
   "outputs": [],
   "source": [
    "import numpy as np"
   ]
  },
  {
   "cell_type": "code",
   "execution_count": 2,
   "metadata": {},
   "outputs": [],
   "source": [
    "def calculate(list):\n",
    "  mean = []\n",
    "  variance = []\n",
    "  standardDeviation = []\n",
    "  maximum = []\n",
    "  minimum = []\n",
    "  total = []\n",
    "\n",
    "  arr = np.array(list)\n",
    "    \n",
    "  try:\n",
    "    arr = np.reshape(arr, (3, 3))\n",
    "  except:\n",
    "    raise ValueError( \"List must contain nine numbers.\") \n",
    "  \n",
    "  mean.append(np.mean(arr, axis=0).tolist())\n",
    "  mean.append(np.mean(arr, axis=1).tolist())\n",
    "  mean.append(np.mean(arr).tolist())  \n",
    "\n",
    "  variance.append(np.var(arr, axis=0).tolist())\n",
    "  variance.append(np.var(arr, axis=1).tolist())\n",
    "  variance.append(np.var(arr).tolist())\n",
    "\n",
    "  standardDeviation.append(np.std(arr, axis=0).tolist())\n",
    "  standardDeviation.append(np.std(arr, axis=1).tolist())\n",
    "  standardDeviation.append(np.std(arr).tolist())\n",
    "\n",
    "  maximum.append(np.amax(arr, axis=0).tolist())\n",
    "  maximum.append(np.amax(arr, axis=1).tolist())\n",
    "  maximum.append(np.amax(arr).tolist())  \n",
    "\n",
    "  minimum.append(np.amin(arr, axis=0).tolist())\n",
    "  minimum.append(np.amin(arr, axis=1).tolist())\n",
    "  minimum.append(np.amin(arr).tolist())\n",
    "\n",
    "  total.append(np.sum(arr, axis=0).tolist())\n",
    "  total.append(np.sum(arr, axis=1).tolist())\n",
    "  total.append(np.sum(arr).tolist())\n",
    "\n",
    "  calculations = {\n",
    "    'mean': mean,\n",
    "    'variance': variance,\n",
    "    'standard deviation': standardDeviation,\n",
    "    'max': maximum,\n",
    "    'min': minimum,\n",
    "    'sum': total\n",
    "  }\n",
    "\n",
    "  return calculations"
   ]
  },
  {
   "cell_type": "raw",
   "metadata": {},
   "source": [
    "Evaluate the function"
   ]
  },
  {
   "cell_type": "code",
   "execution_count": 3,
   "metadata": {},
   "outputs": [
    {
     "data": {
      "text/plain": [
       "{'mean': [[3.0, 4.0, 5.0], [1.0, 4.0, 7.0], 4.0],\n",
       " 'variance': [[6.0, 6.0, 6.0],\n",
       "  [0.6666666666666666, 0.6666666666666666, 0.6666666666666666],\n",
       "  6.666666666666667],\n",
       " 'standard deviation': [[2.449489742783178,\n",
       "   2.449489742783178,\n",
       "   2.449489742783178],\n",
       "  [0.816496580927726, 0.816496580927726, 0.816496580927726],\n",
       "  2.581988897471611],\n",
       " 'max': [[6, 7, 8], [2, 5, 8], 8],\n",
       " 'min': [[0, 1, 2], [0, 3, 6], 0],\n",
       " 'sum': [[9, 12, 15], [3, 12, 21], 36]}"
      ]
     },
     "execution_count": 3,
     "metadata": {},
     "output_type": "execute_result"
    }
   ],
   "source": [
    "calculate([0,1,2,3,4,5,6,7,8])"
   ]
  },
  {
   "cell_type": "code",
   "execution_count": null,
   "metadata": {},
   "outputs": [],
   "source": []
  }
 ],
 "metadata": {
  "kernelspec": {
   "display_name": "Python 3",
   "language": "python",
   "name": "python3"
  },
  "language_info": {
   "codemirror_mode": {
    "name": "ipython",
    "version": 3
   },
   "file_extension": ".py",
   "mimetype": "text/x-python",
   "name": "python",
   "nbconvert_exporter": "python",
   "pygments_lexer": "ipython3",
   "version": "3.7.4"
  }
 },
 "nbformat": 4,
 "nbformat_minor": 2
}
