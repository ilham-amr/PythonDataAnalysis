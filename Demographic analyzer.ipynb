{
 "cells": [
  {
   "cell_type": "markdown",
   "metadata": {},
   "source": [
    "# Demographic analyzer"
   ]
  },
  {
   "cell_type": "code",
   "execution_count": 1,
   "metadata": {},
   "outputs": [],
   "source": [
    "import pandas as pd"
   ]
  },
  {
   "cell_type": "code",
   "execution_count": 2,
   "metadata": {},
   "outputs": [],
   "source": [
    "def calculate_demographic_data(print_data=True):\n",
    "    # Read data from file\n",
    "    df = pd.read_csv('adult.data.csv')\n",
    "    df.head()\n",
    "\n",
    "    # How many of each race are represented in this dataset? This should be a Pandas series with race names as the index labels.\n",
    "\n",
    "    race_count = df['race'].value_counts()\n",
    "\n",
    "    # What is the average age of men?\n",
    "    men_count = df.loc[(df['sex']=='Male')]\n",
    "    average_age_men = round(men_count['age'].mean(), 1)\n",
    "\n",
    "    # What is the percentage of people who have a Bachelor's degree?\n",
    "    bachelors = df.loc[(df['education'] == 'Bachelors')]\n",
    "    percentage_bachelors = round((bachelors.shape[0] / df.shape[0] * 100), 1)\n",
    "\n",
    "    # What percentage of people with advanced education (`Bachelors`, `Masters`, or `Doctorate`) make more than 50K?\n",
    "    # What percentage of people without advanced education make more than 50K?\n",
    "\n",
    "    # with and without `Bachelors`, `Masters`, or `Doctorate`\n",
    "    high = df[(df['education']=='Bachelors') | (df['education']=='Masters') | (df['education']=='Doctorate')]\n",
    "    low = df[(df['education']!='Bachelors') & (df['education']!='Masters') & (df['education']!='Doctorate')]\n",
    "    higher_education = round((high.shape[0] / df.shape[0]), 2) * 100\n",
    "    lower_education = round((low.shape[0] / df.shape[0]), 2) * 100\n",
    "\n",
    "    # percentage with salary >50K\n",
    "    higher_education_rich_count = df[((df['education'] == 'Bachelors') | (df['education'] =='Masters') | (df['education'] =='Doctorate')) & (df['salary'] == '>50K')]\n",
    "    lower_education_rich_count = df[((df['education'] != 'Bachelors') & (df['education'] !='Masters') & (df['education'] !='Doctorate')) & (df['salary'] == '>50K')]\n",
    "    higher_education_rich = round(higher_education_rich_count.shape[0]/ high.shape[0] * 100, 1)\n",
    "    lower_education_rich = round(lower_education_rich_count.shape[0]/low.shape[0] * 100, 1)\n",
    "    # What is the minimum number of hours a person works per week (hours-per-week feature)?\n",
    "    min_work_hours = df['hours-per-week'].min()\n",
    "\n",
    "    # What percentage of the people who work the minimum number of hours per week have a salary of >50K?\n",
    "    num_min_workers = df[(df['hours-per-week'] == df['hours-per-week'].min())]\n",
    "    rich_min_workers = df[(df['hours-per-week'] == df['hours-per-week'].min()) & (df['salary'] == '>50K')]\n",
    "    rich_percentage = rich_min_workers.shape[0] / num_min_workers.shape[0] * 100\n",
    "\n",
    "    # What country has the highest percentage of people that earn >50K?\n",
    "    highest_earning_country = df[df['salary'] == '>50K'].groupby('native-country')\n",
    "    all_country = df.groupby('native-country')\n",
    "    highest_earning = round(highest_earning_country['salary'].count() / all_country['salary'].count() * 100, 1).sort_values(ascending=False)\n",
    "    highest_earning.reset_index()\n",
    "    highest_earning_country = highest_earning.index[0]\n",
    "    highest_earning_country_percentage = highest_earning.max()\n",
    "\n",
    "    # Identify the most popular occupation for those who earn >50K in India.\n",
    "    highest_occup = df[(df['salary'] == '>50K') & (df['native-country'] == 'India')].groupby('occupation')\n",
    "    highest_india = highest_occup['occupation'].count().sort_values(ascending=False)\n",
    "    top_IN_occupation = highest_india.index[0]\n",
    "\n",
    "    # DO NOT MODIFY BELOW THIS LINE\n",
    "\n",
    "    if print_data:\n",
    "        print(\"Number of each race:\\n\", race_count) \n",
    "        print(\"Average age of men:\", average_age_men)\n",
    "        print(f\"Percentage with Bachelors degrees: {percentage_bachelors}%\")\n",
    "        print(f\"Percentage with higher education that earn >50K: {higher_education_rich}%\")\n",
    "        print(f\"Percentage without higher education that earn >50K: {lower_education_rich}%\")\n",
    "        print(f\"Min work time: {min_work_hours} hours/week\")\n",
    "        print(f\"Percentage of rich among those who work fewest hours: {rich_percentage}%\")\n",
    "        print(\"Country with highest percentage of rich:\", highest_earning_country)\n",
    "        print(f\"Highest percentage of rich people in country: {highest_earning_country_percentage}%\")\n",
    "        print(\"Top occupations in India:\", top_IN_occupation)\n",
    "\n",
    "    return {\n",
    "        'race_count': race_count,\n",
    "        'average_age_men': average_age_men,\n",
    "        'percentage_bachelors': percentage_bachelors,\n",
    "        'higher_education_rich': higher_education_rich,\n",
    "        'lower_education_rich': lower_education_rich,\n",
    "        'min_work_hours': min_work_hours,\n",
    "        'rich_percentage': rich_percentage,\n",
    "        'highest_earning_country': highest_earning_country,\n",
    "        'highest_earning_country_percentage':\n",
    "        highest_earning_country_percentage,\n",
    "        'top_IN_occupation': top_IN_occupation\n",
    "    }"
   ]
  },
  {
   "cell_type": "code",
   "execution_count": 4,
   "metadata": {},
   "outputs": [
    {
     "name": "stdout",
     "output_type": "stream",
     "text": [
      "Number of each race:\n",
      " White                 27816\n",
      "Black                  3124\n",
      "Asian-Pac-Islander     1039\n",
      "Amer-Indian-Eskimo      311\n",
      "Other                   271\n",
      "Name: race, dtype: int64\n",
      "Average age of men: 39.4\n",
      "Percentage with Bachelors degrees: 16.4%\n",
      "Percentage with higher education that earn >50K: 46.5%\n",
      "Percentage without higher education that earn >50K: 17.4%\n",
      "Min work time: 1 hours/week\n",
      "Percentage of rich among those who work fewest hours: 10.0%\n",
      "Country with highest percentage of rich: Iran\n",
      "Highest percentage of rich people in country: 41.9%\n",
      "Top occupations in India: Prof-specialty\n"
     ]
    },
    {
     "data": {
      "text/plain": [
       "{'race_count': White                 27816\n",
       " Black                  3124\n",
       " Asian-Pac-Islander     1039\n",
       " Amer-Indian-Eskimo      311\n",
       " Other                   271\n",
       " Name: race, dtype: int64,\n",
       " 'average_age_men': 39.4,\n",
       " 'percentage_bachelors': 16.4,\n",
       " 'higher_education_rich': 46.5,\n",
       " 'lower_education_rich': 17.4,\n",
       " 'min_work_hours': 1,\n",
       " 'rich_percentage': 10.0,\n",
       " 'highest_earning_country': 'Iran',\n",
       " 'highest_earning_country_percentage': 41.9,\n",
       " 'top_IN_occupation': 'Prof-specialty'}"
      ]
     },
     "execution_count": 4,
     "metadata": {},
     "output_type": "execute_result"
    }
   ],
   "source": [
    "calculate_demographic_data()"
   ]
  },
  {
   "cell_type": "code",
   "execution_count": null,
   "metadata": {},
   "outputs": [],
   "source": []
  }
 ],
 "metadata": {
  "kernelspec": {
   "display_name": "Python 3",
   "language": "python",
   "name": "python3"
  },
  "language_info": {
   "codemirror_mode": {
    "name": "ipython",
    "version": 3
   },
   "file_extension": ".py",
   "mimetype": "text/x-python",
   "name": "python",
   "nbconvert_exporter": "python",
   "pygments_lexer": "ipython3",
   "version": "3.7.4"
  }
 },
 "nbformat": 4,
 "nbformat_minor": 2
}
